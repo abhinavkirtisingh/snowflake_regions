{
 "cells": [
  {
   "cell_type": "code",
   "execution_count": 55,
   "id": "860fe26b",
   "metadata": {},
   "outputs": [
    {
     "data": {
      "text/plain": [
       "False"
      ]
     },
     "execution_count": 55,
     "metadata": {},
     "output_type": "execute_result"
    }
   ],
   "source": [
    "import os\n",
    "from datetime import timedelta\n",
    "\n",
    "from snowflake.connector import connect\n",
    "from snowflake.snowpark import Session\n",
    "from snowflake.snowpark import functions as F\n",
    "\n",
    "from snowflake.core import Root\n",
    "from snowflake.core.task import StoredProcedureCall, Task\n",
    "from snowflake.core.task.dagv1 import DAGOperation, DAG, DAGTask\n",
    "\n",
    "from dotenv import load_dotenv\n",
    "load_dotenv('.env')\n"
   ]
  },
  {
   "cell_type": "code",
   "execution_count": 56,
   "id": "cce664ef",
   "metadata": {},
   "outputs": [
    {
     "name": "stdout",
     "output_type": "stream",
     "text": [
      "Success!!\n"
     ]
    }
   ],
   "source": [
    "\n",
    "CONNECTION_PARAMETERS = {\n",
    "    \"account\": \"LNZNUFZ-YK66707\",\n",
    "    \"user\": \"ABHINAVKS\",\n",
    "    \"password\": \"Abhinav@200700\",\n",
    "    \"role\": \"ACCOUNTADMIN\",\n",
    "    \"database\": \"tasty_bytes_sample_data\",\n",
    "    \"schema\": \"raw_pos\"\n",
    "}\n",
    "\n",
    "\n",
    "# Create connection\n",
    "# Step 2: Connect to Snowflake\n",
    "connection = connect(**CONNECTION_PARAMETERS)\n",
    "\n",
    "# Step 3: Create Root object (this expects a Connection, not a string!)\n",
    "api_root = Root(connection)\n",
    "\n",
    "# Step 4: Access your schema\n",
    "schema = api_root.databases[\"tasty_bytes_sample_data\"].schemas[\"raw_pos\"]\n",
    "print(\"Success!!\")"
   ]
  },
  {
   "cell_type": "code",
   "execution_count": 57,
   "id": "7535372b",
   "metadata": {},
   "outputs": [],
   "source": [
    "def task1(session : Session) -> str:\n",
    "    return 'task1 is runnig!'\n",
    "def task2(session : Session) -> str:\n",
    "    return 'task2 is running'\n",
    "def task3(session : Session) -> str:\n",
    "    return 'task3 is running'\n",
    "def task4(session : Session) -> str:\n",
    "    return 'task4 is running'"
   ]
  },
  {
   "cell_type": "code",
   "execution_count": 58,
   "id": "b737bc60",
   "metadata": {},
   "outputs": [
    {
     "name": "stderr",
     "output_type": "stream",
     "text": [
      "The version of package 'snowflake-snowpark-python' in the local environment is 1.30.0, which does not fit the criteria for the requirement 'snowflake-snowpark-python'. Your UDF might not work when the package version is different between the server and your local environment.\n",
      "The version of package 'snowflake-snowpark-python' in the local environment is 1.30.0, which does not fit the criteria for the requirement 'snowflake-snowpark-python'. Your UDF might not work when the package version is different between the server and your local environment.\n",
      "The version of package 'snowflake-snowpark-python' in the local environment is 1.30.0, which does not fit the criteria for the requirement 'snowflake-snowpark-python'. Your UDF might not work when the package version is different between the server and your local environment.\n",
      "The version of package 'snowflake-snowpark-python' in the local environment is 1.30.0, which does not fit the criteria for the requirement 'snowflake-snowpark-python'. Your UDF might not work when the package version is different between the server and your local environment.\n"
     ]
    }
   ],
   "source": [
    "dag_name = \"test_dag\"\n",
    "dag = DAG(dag_name, schedule=timedelta(minutes=1))\n",
    "with dag:\n",
    "    dag_task1 = DAGTask(\"task1\", StoredProcedureCall(task1, stage_location=\"@dag\", packages=[\"snowflake-snowpark-python\"]))\n",
    "    dag_task2 = DAGTask(\"task2\", StoredProcedureCall(task2, stage_location=\"@dag\", packages=[\"snowflake-snowpark-python\"]))\n",
    "    dag_task3 = DAGTask(\"task3\", StoredProcedureCall(task3, stage_location=\"@dag\", packages=[\"snowflake-snowpark-python\"]))\n",
    "    dag_task4 = DAGTask(\"task4\", StoredProcedureCall(task4, stage_location=\"@dag\", packages=[\"snowflake-snowpark-python\"]))\n",
    "    dag_task2 >> dag_task1  # task1 → task2\n",
    "    dag_task3 >> dag_task1  # task1 → task3\n",
    "    dag_task4 >> dag_task2  # task2 → task4\n",
    "    dag_task4 >> dag_task3\n",
    "dag_op = DAGOperation(schema)\n",
    "dag_op.deploy(dag, mode=\"orReplace\")\n"
   ]
  },
  {
   "cell_type": "code",
   "execution_count": null,
   "id": "06d8f46e",
   "metadata": {},
   "outputs": [],
   "source": []
  }
 ],
 "metadata": {
  "kernelspec": {
   "display_name": "py310",
   "language": "python",
   "name": "python3"
  },
  "language_info": {
   "codemirror_mode": {
    "name": "ipython",
    "version": 3
   },
   "file_extension": ".py",
   "mimetype": "text/x-python",
   "name": "python",
   "nbconvert_exporter": "python",
   "pygments_lexer": "ipython3",
   "version": "3.10.16"
  }
 },
 "nbformat": 4,
 "nbformat_minor": 5
}
