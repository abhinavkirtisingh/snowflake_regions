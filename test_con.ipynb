{
 "cells": [
  {
   "cell_type": "code",
   "execution_count": 56,
   "id": "860fe26b",
   "metadata": {},
   "outputs": [
    {
     "data": {
      "text/plain": [
       "False"
      ]
     },
     "execution_count": 56,
     "metadata": {},
     "output_type": "execute_result"
    }
   ],
   "source": [
    "import os\n",
    "from datetime import timedelta\n",
    "from snowflake.snowpark.exceptions import SnowparkSQLException\n",
    "from snowflake.connector import connect\n",
    "from dataframe_p.sf_session import session\n",
    "from snowflake.snowpark import functions as F\n",
    "\n",
    "from snowflake.core import Root\n",
    "from snowflake.core.task import StoredProcedureCall, Task\n",
    "from snowflake.core.task.dagv1 import DAGOperation, DAG, DAGTask\n",
    "\n",
    "from dotenv import load_dotenv\n",
    "load_dotenv('.env')\n"
   ]
  },
  {
   "cell_type": "code",
   "execution_count": 57,
   "id": "cce664ef",
   "metadata": {},
   "outputs": [
    {
     "name": "stdout",
     "output_type": "stream",
     "text": [
      "Success!!\n"
     ]
    }
   ],
   "source": [
    "\n",
    "CONNECTION_PARAMETERS = {\n",
    "    \"account\": \"LNZNUFZ-YK66707\",\n",
    "    \"user\": \"ABHINAVKS\",\n",
    "    \"password\": \"Abhinav@200700\",\n",
    "    \"role\": \"ACCOUNTADMIN\",\n",
    "    \"database\": \"tasty_bytes_sample_data\",\n",
    "    \"schema\": \"raw_pos\"\n",
    "}\n",
    "\n",
    "\n",
    "# Create connection\n",
    "# Step 2: Connect to Snowflake\n",
    "connection = connect(**CONNECTION_PARAMETERS)\n",
    "\n",
    "# Step 3: Create Root object (this expects a Connection, not a string!)\n",
    "api_root = Root(connection)\n",
    "\n",
    "# Step 4: Access your schema\n",
    "schema = api_root.databases[\"tasty_bytes_sample_data\"].schemas[\"raw_pos\"]\n",
    "print(\"Success!!\")"
   ]
  },
  {
   "cell_type": "code",
   "execution_count": 58,
   "id": "7535372b",
   "metadata": {},
   "outputs": [],
   "source": [
    "def task1(session : Session) -> str:\n",
    "    print('task1')\n",
    "    return 'task1 is runnig!'\n",
    "def task2(session : Session) -> str:\n",
    "    print('task2')\n",
    "    try:\n",
    "        tdf = session.sql(\"SELECT 1/0;\")\n",
    "        tdf.collect()\n",
    "        \n",
    "    except Exception as e:\n",
    "        df = session.sql(\"\"\"CALL SYSTEM$SEND_EMAIL(\n",
    "        'send_email_int',\n",
    "        'abhinav.singh43@infosys.com',\n",
    "        'Email Alert: Task_c2 has failed.',\n",
    "        'Task_c2 has  failed.');\"\"\")\n",
    "        df.collect()\n",
    "        raise SnowparkSQLException(\"Forcing failure of task2 due to insert error.\")\n",
    "    \n",
    "def task3(session : Session) -> str:\n",
    "    print('task3')\n",
    "    return 'task3 is running'\n",
    "def task4(session : Session) -> str:\n",
    "    print('task4')\n",
    "    return 'task4 is running'"
   ]
  },
  {
   "cell_type": "code",
   "execution_count": 59,
   "id": "b737bc60",
   "metadata": {},
   "outputs": [
    {
     "name": "stderr",
     "output_type": "stream",
     "text": [
      "The version of package 'snowflake-snowpark-python' in the local environment is 1.30.0, which does not fit the criteria for the requirement 'snowflake-snowpark-python'. Your UDF might not work when the package version is different between the server and your local environment.\n",
      "The version of package 'snowflake-snowpark-python' in the local environment is 1.30.0, which does not fit the criteria for the requirement 'snowflake-snowpark-python'. Your UDF might not work when the package version is different between the server and your local environment.\n",
      "The version of package 'snowflake-snowpark-python' in the local environment is 1.30.0, which does not fit the criteria for the requirement 'snowflake-snowpark-python'. Your UDF might not work when the package version is different between the server and your local environment.\n",
      "The version of package 'snowflake-snowpark-python' in the local environment is 1.30.0, which does not fit the criteria for the requirement 'snowflake-snowpark-python'. Your UDF might not work when the package version is different between the server and your local environment.\n"
     ]
    }
   ],
   "source": [
    "dag_name = \"test_dag\"\n",
    "dag = DAG(dag_name, schedule=timedelta(minutes=1))\n",
    "with dag:\n",
    "    dag_task1 = DAGTask(\"task1\", StoredProcedureCall(task1, stage_location=\"@test_dag\", packages=[\"snowflake-snowpark-python\"]))\n",
    "    dag_task2 = DAGTask(\"task2\", StoredProcedureCall(task2, stage_location=\"@test_dag\", packages=[\"snowflake-snowpark-python\"]))\n",
    "    dag_task3 = DAGTask(\"task3\", StoredProcedureCall(task3, stage_location=\"@test_dag\", packages=[\"snowflake-snowpark-python\"]))\n",
    "    dag_task4 = DAGTask(\"task4\", StoredProcedureCall(task4, stage_location=\"@test_dag\", packages=[\"snowflake-snowpark-python\"]))\n",
    "    dag_task2 >> dag_task1  # task1 → task2\n",
    "    dag_task3 >> dag_task1  # task1 → task3\n",
    "    dag_task4 >> dag_task2  # task2 → task4\n",
    "    dag_task4 >> dag_task3\n",
    "dag_op = DAGOperation(schema)\n",
    "dag_op.deploy(dag, mode=\"orReplace\")\n"
   ]
  },
  {
   "cell_type": "code",
   "execution_count": 60,
   "id": "06d8f46e",
   "metadata": {},
   "outputs": [
    {
     "name": "stdout",
     "output_type": "stream",
     "text": [
      "('{\\n  \"customer\": [\\n    {\\n      \"address\": \"San Francisco, CA\",\\n      \"name\": \"Joyce Ridgely\",\\n      \"phone\": \"16504378889\"\\n    }\\n  ],\\n  \"date\": \"2017-04-28\",\\n  \"dealership\": \"Valley View Auto Sales\",\\n  \"salesperson\": {\\n    \"id\": \"55\",\\n    \"name\": \"Frank Beasley\"\\n  },\\n  \"vehicle\": [\\n    {\\n      \"extras\": [\\n        \"ext warranty\",\\n        \"paint protection\"\\n      ],\\n      \"make\": \"Honda\",\\n      \"model\": \"Civic\",\\n      \"price\": \"20275\",\\n      \"year\": \"2017\"\\n    }\\n  ]\\n}',)\n",
      "('{\\n  \"customer\": [\\n    {\\n      \"address\": \"New York, NY\",\\n      \"name\": \"Bradley Greenbloom\",\\n      \"phone\": \"12127593751\"\\n    }\\n  ],\\n  \"date\": \"2017-04-28\",\\n  \"dealership\": \"Tindel Toyota\",\\n  \"salesperson\": {\\n    \"id\": \"274\",\\n    \"name\": \"Greg Northrup\"\\n  },\\n  \"vehicle\": [\\n    {\\n      \"extras\": [\\n        \"ext warranty\",\\n        \"rust proofing\",\\n        \"fabric protection\"\\n      ],\\n      \"make\": \"Toyota\",\\n      \"model\": \"Camry\",\\n      \"price\": \"23500\",\\n      \"year\": \"2017\"\\n    }\\n  ]\\n}',)\n"
     ]
    }
   ],
   "source": [
    "cur = connection.cursor()\n",
    "cur.execute(\"select * from TASTY_BYTES_SAMPLE_DATA.RAW_POS.CAR_SALES;\")\n",
    "results = cur.fetchall()\n",
    "\n",
    "for row in results:\n",
    "    print(row)"
   ]
  },
  {
   "cell_type": "code",
   "execution_count": null,
   "id": "940e8692",
   "metadata": {},
   "outputs": [],
   "source": []
  }
 ],
 "metadata": {
  "kernelspec": {
   "display_name": "py310",
   "language": "python",
   "name": "python3"
  },
  "language_info": {
   "codemirror_mode": {
    "name": "ipython",
    "version": 3
   },
   "file_extension": ".py",
   "mimetype": "text/x-python",
   "name": "python",
   "nbconvert_exporter": "python",
   "pygments_lexer": "ipython3",
   "version": "3.10.16"
  }
 },
 "nbformat": 4,
 "nbformat_minor": 5
}
